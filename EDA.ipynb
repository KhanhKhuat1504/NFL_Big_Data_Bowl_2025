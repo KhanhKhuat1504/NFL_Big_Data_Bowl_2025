{
 "cells": [
  {
   "cell_type": "code",
   "execution_count": null,
   "id": "c4155e69-88f6-488b-b8f0-06d035d3046e",
   "metadata": {},
   "outputs": [],
   "source": []
  }
 ],
 "metadata": {
  "kernelspec": {
   "display_name": "R",
   "language": "R",
   "name": "ir"
  },
  "language_info": {
   "codemirror_mode": "r",
   "file_extension": ".r",
   "mimetype": "text/x-r-source",
   "name": "R",
   "pygments_lexer": "r",
   "version": "4.3.0"
  }
 },
 "nbformat": 4,
 "nbformat_minor": 5
}
